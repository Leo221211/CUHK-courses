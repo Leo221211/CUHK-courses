{
 "cells": [
  {
   "cell_type": "code",
   "execution_count": 5,
   "metadata": {},
   "outputs": [
    {
     "name": "stdout",
     "output_type": "stream",
     "text": [
      "-0.4 * 5.5 + 1.2 * 0.5 + 4.8 = 3.20\n",
      "-0.4 * 3.5 + 1.2 * -0.5 + 4.8 = 2.80\n",
      "-0.4 * 4.5 + 1.2 * 1.5 + 4.8 = 4.80\n",
      "-0.4 * 2.5 + 1.2 * -1 + 4.8 = 2.60\n",
      "-0.4 * 3.5 + 1.2 * -4.5 + 4.8 = -2.00\n",
      "-0.4 * 2.5 + 1.2 * -4 + 4.8 = -1.00\n",
      "-0.4 * 4 + 1.2 * -6 + 4.8 = -4.0\n",
      "-0.4 * 5 + 1.2 * -5 + 4.8 = -3.2\n"
     ]
    }
   ],
   "source": [
    "from decimal import Decimal\n",
    "\n",
    "x1 = [5.5, 3.5, 4.5, 2.5, 3.5, 2.5, 4, 5]\n",
    "x2 = [0.5, -0.5, 1.5, -1, -4.5, -4, -6, -5]\n",
    "\n",
    "for x1_val, x2_val in zip(x1, x2):\n",
    "    result = Decimal('-0.4') * Decimal(str(x1_val)) + Decimal('1.2') * Decimal(str(x2_val)) + Decimal('4.8')\n",
    "    print(f'-0.4 * {x1_val} + 1.2 * {x2_val} + 4.8 = {result}')"
   ]
  },
  {
   "cell_type": "code",
   "execution_count": 6,
   "metadata": {},
   "outputs": [
    {
     "name": "stdout",
     "output_type": "stream",
     "text": [
      "Deleting 2nd data point: \n",
      "Formula of the hyperplane: -0.400 * x1 + 1.200 * x2 + 4.800 = 0\n",
      "Prediction results:  [ 1  1  1  1 -1 -1 -1 -1]\n",
      "Deleting 8th data point: \n",
      "Formula of the hyperplane: 0.235 * x1 + 0.941 * x2 + 2.059 = 0\n",
      "Prediction results:  [ 1  1  1  1 -1 -1 -1 -1]\n"
     ]
    }
   ],
   "source": [
    "import numpy as np\n",
    "import matplotlib.pyplot as plt\n",
    "from sklearn.datasets import make_blobs\n",
    "from sklearn import svm\n",
    "import pandas as pd\n",
    "from sklearn.metrics import accuracy_score\n",
    "\n",
    "x1_test = [5.5, 3.5, 4.5, 2.5, 3.5, 2.5, 4, 5]\n",
    "x2_test = [0.5, -0.5, 1.5, -1, -4.5, -4, -6, -5]\n",
    "x1_train = [3.5, 5, 3, 5.5, 4.5, 3.5, 3, 4]\n",
    "x2_train = [-2, 1.5, 3, -1, -5, -6.5, -4, -3.5]\n",
    "y_train = [1, 1, 1, 1, -1, -1, -1, -1]\n",
    "\n",
    "'''deleting 2nd data'''\n",
    "x1 = [x1 for i, x1 in enumerate(x1_train) if i != 2-1]\n",
    "x2 = [x2 for i, x2 in enumerate(x2_train) if i != 2-1]\n",
    "y = [y for i, y in enumerate(y_train) if i != 2-1]\n",
    "X_train = np.array([x1, x2]).transpose()\n",
    "Y_train = np.array(y).transpose()\n",
    "X_test = np.array([x1_test, x2_test]).transpose()\n",
    "\n",
    "# print(X_train)\n",
    "\n",
    "\n",
    "model = svm.SVC(kernel='linear', C=1e30).fit(X_train, Y_train)\n",
    "Y_pred = model.predict(X_test)\n",
    "\n",
    "w = model.coef_[0]\n",
    "b = model.intercept_[0]\n",
    "\n",
    "print(\"Deleting 2nd data point: \")\n",
    "print(f\"Formula of the hyperplane: {w[0]:.3f} * x1 + {w[1]:.3f} * x2 + {b:.3f} = 0\")\n",
    "print(f\"Prediction results: \", Y_pred)\n",
    "\n",
    "'''deleting 8th data'''\n",
    "x1 = [x1 for i, x1 in enumerate(x1_train) if i != 8-1]\n",
    "x2 = [x2 for i, x2 in enumerate(x2_train) if i != 8-1]\n",
    "y = [y for i, y in enumerate(y_train) if i != 8-1]\n",
    "X_train = np.array([x1, x2]).transpose()\n",
    "Y_train = np.array(y).transpose()\n",
    "X_test = np.array([x1_test, x2_test]).transpose()\n",
    "\n",
    "# print(X_train)\n",
    "\n",
    "model = svm.SVC(kernel='linear', C=1e30).fit(X_train, Y_train)\n",
    "Y_pred = model.predict(X_test)\n",
    "\n",
    "w = model.coef_[0]\n",
    "b = model.intercept_[0]\n",
    "\n",
    "\n",
    "print(\"Deleting 8th data point: \")\n",
    "print(f\"Formula of the hyperplane: {w[0]:.3f} * x1 + {w[1]:.3f} * x2 + {b:.3f} = 0\")\n",
    "print(f\"Prediction results: \", Y_pred)"
   ]
  }
 ],
 "metadata": {
  "kernelspec": {
   "display_name": "base",
   "language": "python",
   "name": "python3"
  },
  "language_info": {
   "codemirror_mode": {
    "name": "ipython",
    "version": 3
   },
   "file_extension": ".py",
   "mimetype": "text/x-python",
   "name": "python",
   "nbconvert_exporter": "python",
   "pygments_lexer": "ipython3",
   "version": "3.11.9"
  }
 },
 "nbformat": 4,
 "nbformat_minor": 2
}
