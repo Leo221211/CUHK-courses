{
 "cells": [
  {
   "cell_type": "code",
   "execution_count": 116,
   "metadata": {},
   "outputs": [],
   "source": [
    "import numpy as np\n",
    "import matplotlib.pyplot as plt"
   ]
  },
  {
   "cell_type": "code",
   "execution_count": 117,
   "metadata": {},
   "outputs": [],
   "source": [
    "X_train = np.array([[0.31, 0.78],\n",
    "                    [0.33, 0.51],\n",
    "                    [0.36, 0.73],\n",
    "                    [0.61, 0.85], \n",
    "                    [0.79, 0.76],\n",
    "                    [0.62, 0.93]])\n",
    "\n",
    "Y_train = np.array([0, 0, 0, 1, 1, 1])\n",
    "\n",
    "X_test = np.array([[0.72, 0.38],\n",
    "                   [0.75, 0.31],\n",
    "                   [0.39, 0.76], \n",
    "                   [0.82, 0.77],\n",
    "                   [0.76, 0.87],\n",
    "                   [0.84, 0.44]])\n",
    "\n",
    "Y_test = np.array([1, 1, 0, 1, 0, 1])\n",
    "\n",
    "theta_old = np.array([-1, 1.5, 0.5])\n",
    "alpha = 0.5"
   ]
  },
  {
   "cell_type": "code",
   "execution_count": 118,
   "metadata": {},
   "outputs": [
    {
     "name": "stdout",
     "output_type": "stream",
     "text": [
      "[[-1.01971897]\n",
      " [ 1.53297714]\n",
      " [ 0.50704538]]\n"
     ]
    }
   ],
   "source": [
    "'''a'''\n",
    "\n",
    "# print(theta_old.reshape(3, 1))\n",
    "\n",
    "X_train = np.concatenate((np.ones((X_train.shape[0], 1)), X_train), axis=1)\n",
    "\n",
    "sum = np.zeros((3, 1))\n",
    "for i in range(len(Y_train)):\n",
    "    sum += ((1/(1+np.exp(-(X_train[i].reshape((1,3)) @ theta_old.reshape(3, 1))))) - Y_train[i]) * X_train[i].reshape((3, 1))\n",
    "    # print(sum)\n",
    "\n",
    "\n",
    "theta_new = theta_old.reshape((3, 1)) - 0.1 * sum\n",
    "print(theta_new)\n",
    "\n"
   ]
  },
  {
   "cell_type": "code",
   "execution_count": 119,
   "metadata": {},
   "outputs": [
    {
     "name": "stdout",
     "output_type": "stream",
     "text": [
      "calculated probability:\n",
      " [[0.56873745]\n",
      " [0.57131001]\n",
      " [0.49087516]\n",
      " [0.65197848]\n",
      " [0.64255551]\n",
      " [0.62036124]]\n",
      "classification result:\n",
      " [[1]\n",
      " [1]\n",
      " [0]\n",
      " [1]\n",
      " [1]\n",
      " [1]]\n"
     ]
    },
    {
     "name": "stderr",
     "output_type": "stream",
     "text": [
      "C:\\Users\\16567\\AppData\\Local\\Temp\\ipykernel_27580\\4184454162.py:9: DeprecationWarning: Conversion of an array with ndim > 0 to a scalar is deprecated, and will error in future. Ensure you extract a single element from your array before performing this operation. (Deprecated NumPy 1.25.)\n",
      "  y_test_pred[i, 0] = 1/(1+np.exp(-(X_test[i].reshape((1,3)) @ theta_new.reshape(3, 1))))\n"
     ]
    }
   ],
   "source": [
    "'''(b)'''\n",
    "X_test = np.concatenate((np.ones((X_test.shape[0], 1)), X_test), axis=1)\n",
    "\n",
    "\n",
    "y_test_pred = np.zeros((Y_test.shape[0], 1))\n",
    "\n",
    "for i in range(X_test.shape[0]):\n",
    "    # print(1/(1+np.exp(-(X_test[i].reshape((1,3)) @ theta_new.reshape(3, 1)))))\n",
    "    y_test_pred[i, 0] = 1/(1+np.exp(-(X_test[i].reshape((1,3)) @ theta_new.reshape(3, 1))))\n",
    "\n",
    "print('calculated probability:\\n', y_test_pred)\n",
    "\n",
    "for i in range(X_test.shape[0]):\n",
    "    # print(1/(1+np.exp(-(X_test[i].reshape((1,3)) @ theta_new.reshape(3, 1)))))\n",
    "    y_test_pred[i, 0] = 1 if (1/(1+np.exp(-(X_test[i].reshape((1,3)) @ theta_new.reshape(3, 1)))) >= 0.5) else 0\n",
    "    y_test_pred\n",
    "\n",
    "print('classification result:\\n', y_test_pred.astype(int))\n",
    "\n",
    "\n",
    "\n",
    "\n"
   ]
  },
  {
   "cell_type": "code",
   "execution_count": 120,
   "metadata": {},
   "outputs": [
    {
     "data": {
      "text/plain": [
       "0.8333333333333334"
      ]
     },
     "execution_count": 120,
     "metadata": {},
     "output_type": "execute_result"
    }
   ],
   "source": [
    "5/6"
   ]
  }
 ],
 "metadata": {
  "kernelspec": {
   "display_name": "base",
   "language": "python",
   "name": "python3"
  },
  "language_info": {
   "codemirror_mode": {
    "name": "ipython",
    "version": 3
   },
   "file_extension": ".py",
   "mimetype": "text/x-python",
   "name": "python",
   "nbconvert_exporter": "python",
   "pygments_lexer": "ipython3",
   "version": "3.11.9"
  }
 },
 "nbformat": 4,
 "nbformat_minor": 2
}
