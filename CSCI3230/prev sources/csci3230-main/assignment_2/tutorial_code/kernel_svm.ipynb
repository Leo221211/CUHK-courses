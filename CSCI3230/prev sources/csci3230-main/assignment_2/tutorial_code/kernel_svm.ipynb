{
 "cells": [
  {
   "cell_type": "code",
   "execution_count": null,
   "id": "c27b2fd2",
   "metadata": {},
   "outputs": [],
   "source": [
    "import numpy as np\n",
    "import matplotlib.pyplot as plt\n",
    "from sklearn import svm"
   ]
  },
  {
   "cell_type": "code",
   "execution_count": null,
   "id": "c96df6cd",
   "metadata": {},
   "outputs": [],
   "source": [
    "def plot_svc_decision_function(model, ax=None, plot_support=True):\n",
    "    \"\"\"Plot the decision function for a 2D SVC\"\"\"\n",
    "    if ax is None:\n",
    "        ax = plt.gca()\n",
    "    xlim = ax.get_xlim()\n",
    "    ylim = ax.get_ylim()\n",
    "    \n",
    "    # create grid to evaluate model\n",
    "    x = np.linspace(xlim[0], xlim[1], 30)\n",
    "    y = np.linspace(ylim[0], ylim[1], 30)\n",
    "    Y, X = np.meshgrid(y, x)\n",
    "    xy = np.vstack([X.ravel(), Y.ravel()]).T\n",
    "    P = model.decision_function(xy).reshape(X.shape)\n",
    "    \n",
    "    # plot decision boundary and margins\n",
    "    ax.contour(X, Y, P, colors='k',\n",
    "               levels=[-1, 0, 1], alpha=0.5,\n",
    "               linestyles=['--', '-', '--'])\n",
    "    \n",
    "    # plot support vectors\n",
    "    if plot_support:\n",
    "        ax.scatter(model.support_vectors_[:, 0],\n",
    "                    model.support_vectors_[:, 1],\n",
    "                    s=100, linewidth=1, facecolors='none',edgecolors='k')\n",
    "    ax.set_xlim(xlim)\n",
    "    ax.set_ylim(ylim)"
   ]
  },
  {
   "cell_type": "code",
   "execution_count": null,
   "id": "49d4909a",
   "metadata": {},
   "outputs": [],
   "source": [
    "X = np.array([[-0.5, -0.87], [0.1, 0],[1,0],[0.5,-0.86],[-0.5,0.87],\n",
    "              [-0.05,-0.087],[-0.1,0],[0.05,0.087],[0.05,-0.087],\n",
    "              [-0.05,0.087],[0.5,0.87],[-1,0]])\n",
    "y = [-1,1,-1,-1,-1,1,1,1,1,1,-1,-1]\n",
    "clf = svm.SVC(kernel='linear')\n",
    "clf.fit(X, y)\n",
    "plt.scatter(X[:, 0], X[:, 1], c=y, s=50, cmap=plt.cm.Paired)\n",
    "plot_svc_decision_function(clf, plot_support=True)"
   ]
  },
  {
   "cell_type": "code",
   "execution_count": null,
   "id": "89cd28b1",
   "metadata": {},
   "outputs": [],
   "source": [
    "clf = svm.SVC(kernel='poly')\n",
    "clf.fit(X, y)\n",
    "\n",
    "plt.scatter(X[:, 0], X[:, 1], c=y, s=50, cmap=plt.cm.Paired)\n",
    "plot_svc_decision_function(clf, plot_support=True)"
   ]
  },
  {
   "cell_type": "code",
   "execution_count": null,
   "id": "f39f3149",
   "metadata": {},
   "outputs": [],
   "source": [
    "clf = svm.SVC(kernel='poly',degree = 4)\n",
    "clf.fit(X, y)\n",
    "\n",
    "plt.scatter(X[:, 0], X[:, 1], c=y, s=50, cmap=plt.cm.Paired)\n",
    "plot_svc_decision_function(clf, plot_support=True)"
   ]
  },
  {
   "cell_type": "code",
   "execution_count": null,
   "id": "d2276c3c",
   "metadata": {},
   "outputs": [],
   "source": [
    "clf = svm.SVC(kernel='sigmoid')\n",
    "clf.fit(X, y)\n",
    "\n",
    "plt.scatter(X[:, 0], X[:, 1], c=y, s=50, cmap=plt.cm.Paired)\n",
    "plot_svc_decision_function(clf, plot_support=True)"
   ]
  },
  {
   "cell_type": "code",
   "execution_count": null,
   "id": "5bc2b476",
   "metadata": {},
   "outputs": [],
   "source": [
    "clf = svm.SVC(kernel='rbf')\n",
    "clf.fit(X, y)\n",
    "\n",
    "plt.scatter(X[:, 0], X[:, 1], c=y, s=50, cmap=plt.cm.Paired)\n",
    "plot_svc_decision_function(clf, plot_support=True)"
   ]
  },
  {
   "cell_type": "code",
   "execution_count": null,
   "id": "e2db4010",
   "metadata": {},
   "outputs": [],
   "source": [
    "X_test = np.array([[-0.77, -0.51],\n",
    "       [-0.037,  0.17],\n",
    "       [ 0.14, -1.09],\n",
    "       [-0.039,  0.14],\n",
    "       [ 0.36,  0.84],\n",
    "       [ 0.051,  0.19],\n",
    "       [-0.10,  0.16,],\n",
    "       [ 0.022,  0.12],\n",
    "       [ 1.068, -0.16],\n",
    "       [-0.64,  0.47]])\n",
    "y_test = np.array([-1, -1, -1, 1, -1, 1, 1, 1, -1, -1])"
   ]
  },
  {
   "cell_type": "code",
   "execution_count": null,
   "id": "5c62c1e3",
   "metadata": {},
   "outputs": [],
   "source": [
    "prediction = clf.predict(X_test)\n",
    "print(prediction)\n",
    "print(y_test)"
   ]
  },
  {
   "cell_type": "code",
   "execution_count": null,
   "id": "6bba67df",
   "metadata": {},
   "outputs": [],
   "source": []
  }
 ],
 "metadata": {
  "kernelspec": {
   "display_name": "Python 3",
   "language": "python",
   "name": "python3"
  },
  "language_info": {
   "codemirror_mode": {
    "name": "ipython",
    "version": 3
   },
   "file_extension": ".py",
   "mimetype": "text/x-python",
   "name": "python",
   "nbconvert_exporter": "python",
   "pygments_lexer": "ipython3",
   "version": "3.8.15"
  }
 },
 "nbformat": 4,
 "nbformat_minor": 5
}
